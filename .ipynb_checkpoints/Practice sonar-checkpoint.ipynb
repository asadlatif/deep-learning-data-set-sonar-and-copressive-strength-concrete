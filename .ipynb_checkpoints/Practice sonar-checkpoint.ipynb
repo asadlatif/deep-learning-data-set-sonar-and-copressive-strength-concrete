{
 "cells": [
  {
   "cell_type": "code",
   "execution_count": 1,
   "metadata": {},
   "outputs": [],
   "source": [
    "import pandas as pd\n",
    "import numpy as np\n",
    "from sklearn.utils import shuffle\n",
    "from sklearn.preprocessing import LabelBinarizer, LabelEncoder\n",
    "import tensorflow as tf\n",
    "from tensorflow.keras import layers\n",
    "from tensorflow.keras import models"
   ]
  },
  {
   "cell_type": "code",
   "execution_count": 2,
   "metadata": {},
   "outputs": [],
   "source": [
    "# load data set\n",
    "# shuffle dataset\n",
    "# split training 70 validation 10 and test 20 %\n",
    "# split inputs and labels (output)\n",
    "# one hot coding\n",
    "# fit model without validation compare training and testing acuracies\n",
    "# fit mode with validation (with history)\n",
    "# create graph \n",
    "# adjust epoch pased on graph \n",
    "# check testing and training accuracies are matched or not\n",
    "# (chapter 3: Listing  3:17,3:18,3:19,3:20)"
   ]
  },
  {
   "cell_type": "code",
   "execution_count": 3,
   "metadata": {
    "scrolled": true
   },
   "outputs": [
    {
     "data": {
      "text/html": [
       "<div>\n",
       "<style scoped>\n",
       "    .dataframe tbody tr th:only-of-type {\n",
       "        vertical-align: middle;\n",
       "    }\n",
       "\n",
       "    .dataframe tbody tr th {\n",
       "        vertical-align: top;\n",
       "    }\n",
       "\n",
       "    .dataframe thead th {\n",
       "        text-align: right;\n",
       "    }\n",
       "</style>\n",
       "<table border=\"1\" class=\"dataframe\">\n",
       "  <thead>\n",
       "    <tr style=\"text-align: right;\">\n",
       "      <th></th>\n",
       "      <th>0</th>\n",
       "      <th>1</th>\n",
       "      <th>2</th>\n",
       "      <th>3</th>\n",
       "      <th>4</th>\n",
       "      <th>5</th>\n",
       "      <th>6</th>\n",
       "      <th>7</th>\n",
       "      <th>8</th>\n",
       "      <th>9</th>\n",
       "      <th>...</th>\n",
       "      <th>51</th>\n",
       "      <th>52</th>\n",
       "      <th>53</th>\n",
       "      <th>54</th>\n",
       "      <th>55</th>\n",
       "      <th>56</th>\n",
       "      <th>57</th>\n",
       "      <th>58</th>\n",
       "      <th>59</th>\n",
       "      <th>60</th>\n",
       "    </tr>\n",
       "  </thead>\n",
       "  <tbody>\n",
       "    <tr>\n",
       "      <th>0</th>\n",
       "      <td>0.0200</td>\n",
       "      <td>0.0371</td>\n",
       "      <td>0.0428</td>\n",
       "      <td>0.0207</td>\n",
       "      <td>0.0954</td>\n",
       "      <td>0.0986</td>\n",
       "      <td>0.1539</td>\n",
       "      <td>0.1601</td>\n",
       "      <td>0.3109</td>\n",
       "      <td>0.2111</td>\n",
       "      <td>...</td>\n",
       "      <td>0.0027</td>\n",
       "      <td>0.0065</td>\n",
       "      <td>0.0159</td>\n",
       "      <td>0.0072</td>\n",
       "      <td>0.0167</td>\n",
       "      <td>0.0180</td>\n",
       "      <td>0.0084</td>\n",
       "      <td>0.0090</td>\n",
       "      <td>0.0032</td>\n",
       "      <td>R</td>\n",
       "    </tr>\n",
       "    <tr>\n",
       "      <th>1</th>\n",
       "      <td>0.0453</td>\n",
       "      <td>0.0523</td>\n",
       "      <td>0.0843</td>\n",
       "      <td>0.0689</td>\n",
       "      <td>0.1183</td>\n",
       "      <td>0.2583</td>\n",
       "      <td>0.2156</td>\n",
       "      <td>0.3481</td>\n",
       "      <td>0.3337</td>\n",
       "      <td>0.2872</td>\n",
       "      <td>...</td>\n",
       "      <td>0.0084</td>\n",
       "      <td>0.0089</td>\n",
       "      <td>0.0048</td>\n",
       "      <td>0.0094</td>\n",
       "      <td>0.0191</td>\n",
       "      <td>0.0140</td>\n",
       "      <td>0.0049</td>\n",
       "      <td>0.0052</td>\n",
       "      <td>0.0044</td>\n",
       "      <td>R</td>\n",
       "    </tr>\n",
       "    <tr>\n",
       "      <th>2</th>\n",
       "      <td>0.0262</td>\n",
       "      <td>0.0582</td>\n",
       "      <td>0.1099</td>\n",
       "      <td>0.1083</td>\n",
       "      <td>0.0974</td>\n",
       "      <td>0.2280</td>\n",
       "      <td>0.2431</td>\n",
       "      <td>0.3771</td>\n",
       "      <td>0.5598</td>\n",
       "      <td>0.6194</td>\n",
       "      <td>...</td>\n",
       "      <td>0.0232</td>\n",
       "      <td>0.0166</td>\n",
       "      <td>0.0095</td>\n",
       "      <td>0.0180</td>\n",
       "      <td>0.0244</td>\n",
       "      <td>0.0316</td>\n",
       "      <td>0.0164</td>\n",
       "      <td>0.0095</td>\n",
       "      <td>0.0078</td>\n",
       "      <td>R</td>\n",
       "    </tr>\n",
       "    <tr>\n",
       "      <th>3</th>\n",
       "      <td>0.0100</td>\n",
       "      <td>0.0171</td>\n",
       "      <td>0.0623</td>\n",
       "      <td>0.0205</td>\n",
       "      <td>0.0205</td>\n",
       "      <td>0.0368</td>\n",
       "      <td>0.1098</td>\n",
       "      <td>0.1276</td>\n",
       "      <td>0.0598</td>\n",
       "      <td>0.1264</td>\n",
       "      <td>...</td>\n",
       "      <td>0.0121</td>\n",
       "      <td>0.0036</td>\n",
       "      <td>0.0150</td>\n",
       "      <td>0.0085</td>\n",
       "      <td>0.0073</td>\n",
       "      <td>0.0050</td>\n",
       "      <td>0.0044</td>\n",
       "      <td>0.0040</td>\n",
       "      <td>0.0117</td>\n",
       "      <td>R</td>\n",
       "    </tr>\n",
       "    <tr>\n",
       "      <th>4</th>\n",
       "      <td>0.0762</td>\n",
       "      <td>0.0666</td>\n",
       "      <td>0.0481</td>\n",
       "      <td>0.0394</td>\n",
       "      <td>0.0590</td>\n",
       "      <td>0.0649</td>\n",
       "      <td>0.1209</td>\n",
       "      <td>0.2467</td>\n",
       "      <td>0.3564</td>\n",
       "      <td>0.4459</td>\n",
       "      <td>...</td>\n",
       "      <td>0.0031</td>\n",
       "      <td>0.0054</td>\n",
       "      <td>0.0105</td>\n",
       "      <td>0.0110</td>\n",
       "      <td>0.0015</td>\n",
       "      <td>0.0072</td>\n",
       "      <td>0.0048</td>\n",
       "      <td>0.0107</td>\n",
       "      <td>0.0094</td>\n",
       "      <td>R</td>\n",
       "    </tr>\n",
       "  </tbody>\n",
       "</table>\n",
       "<p>5 rows × 61 columns</p>\n",
       "</div>"
      ],
      "text/plain": [
       "       0       1       2       3       4       5       6       7       8   \\\n",
       "0  0.0200  0.0371  0.0428  0.0207  0.0954  0.0986  0.1539  0.1601  0.3109   \n",
       "1  0.0453  0.0523  0.0843  0.0689  0.1183  0.2583  0.2156  0.3481  0.3337   \n",
       "2  0.0262  0.0582  0.1099  0.1083  0.0974  0.2280  0.2431  0.3771  0.5598   \n",
       "3  0.0100  0.0171  0.0623  0.0205  0.0205  0.0368  0.1098  0.1276  0.0598   \n",
       "4  0.0762  0.0666  0.0481  0.0394  0.0590  0.0649  0.1209  0.2467  0.3564   \n",
       "\n",
       "       9   ...      51      52      53      54      55      56      57  \\\n",
       "0  0.2111  ...  0.0027  0.0065  0.0159  0.0072  0.0167  0.0180  0.0084   \n",
       "1  0.2872  ...  0.0084  0.0089  0.0048  0.0094  0.0191  0.0140  0.0049   \n",
       "2  0.6194  ...  0.0232  0.0166  0.0095  0.0180  0.0244  0.0316  0.0164   \n",
       "3  0.1264  ...  0.0121  0.0036  0.0150  0.0085  0.0073  0.0050  0.0044   \n",
       "4  0.4459  ...  0.0031  0.0054  0.0105  0.0110  0.0015  0.0072  0.0048   \n",
       "\n",
       "       58      59  60  \n",
       "0  0.0090  0.0032   R  \n",
       "1  0.0052  0.0044   R  \n",
       "2  0.0095  0.0078   R  \n",
       "3  0.0040  0.0117   R  \n",
       "4  0.0107  0.0094   R  \n",
       "\n",
       "[5 rows x 61 columns]"
      ]
     },
     "execution_count": 3,
     "metadata": {},
     "output_type": "execute_result"
    }
   ],
   "source": [
    "dataset = pd.read_csv('sonar.csv', header=None)\n",
    "dataset.head()"
   ]
  },
  {
   "cell_type": "code",
   "execution_count": 4,
   "metadata": {},
   "outputs": [],
   "source": [
    "\n",
    "dataset=shuffle(dataset)\n",
    "dataset = np.array(dataset)"
   ]
  },
  {
   "cell_type": "code",
   "execution_count": 47,
   "metadata": {},
   "outputs": [],
   "source": [
    "train_d = dataset[:145,:60].astype('float')\n",
    "train_l = dataset[:145,60:61]\n",
    "\n",
    "train_v = dataset[146:165,:60].astype('float')\n",
    "train_v_l= dataset[146:165,60:61]\n",
    "\n",
    "test_d  = dataset[166:,60]\n",
    "test_l = dataset[166:,60:61]\n"
   ]
  },
  {
   "cell_type": "code",
   "execution_count": 40,
   "metadata": {},
   "outputs": [
    {
     "data": {
      "text/plain": [
       "array([[0.0443, 0.0446, 0.0235, ..., 0.0115, 0.0152, 0.01  ],\n",
       "       [0.0188, 0.037 , 0.0953, ..., 0.0057, 0.0068, 0.0024],\n",
       "       [0.0131, 0.0068, 0.0308, ..., 0.0013, 0.0052, 0.0023],\n",
       "       ...,\n",
       "       [0.0239, 0.0189, 0.0466, ..., 0.0026, 0.0036, 0.0024],\n",
       "       [0.0378, 0.0318, 0.0423, ..., 0.0062, 0.0043, 0.0053],\n",
       "       [0.0283, 0.0599, 0.0656, ..., 0.0033, 0.0045, 0.0079]])"
      ]
     },
     "execution_count": 40,
     "metadata": {},
     "output_type": "execute_result"
    }
   ],
   "source": [
    "train_d"
   ]
  },
  {
   "cell_type": "code",
   "execution_count": 45,
   "metadata": {},
   "outputs": [],
   "source": [
    "\n",
    "\n",
    "encoder = LabelEncoder()\n",
    "encoder.fit(dataset[:,60:61])\n",
    "\n",
    "y_train = encoder.transform(train_l)\n",
    "y_train_v = encoder.transform(train_v_l)\n",
    "y_test = encoder.transform(test_l)\n",
    "\n"
   ]
  },
  {
   "cell_type": "code",
   "execution_count": 30,
   "metadata": {},
   "outputs": [],
   "source": [
    "model = models.Sequential()\n",
    "model.add(layers.Dense(32, activation='relu', input_shape=(60,)))\n",
    "model.add(layers.Dense(16, activation='relu'))\n",
    "model.add(layers.Dense(1, activation='sigmoid'))"
   ]
  },
  {
   "cell_type": "code",
   "execution_count": 31,
   "metadata": {},
   "outputs": [],
   "source": [
    "model.compile(optimizer = 'rmsprop' ,loss='binary_crossentropy',metrics=['accuracy'])"
   ]
  },
  {
   "cell_type": "code",
   "execution_count": 59,
   "metadata": {},
   "outputs": [
    {
     "name": "stdout",
     "output_type": "stream",
     "text": [
      "Train on 145 samples\n",
      "Epoch 1/50\n",
      "145/145 [==============================] - 0s 234us/sample - loss: 0.5337 - accuracy: 0.7724\n",
      "Epoch 2/50\n",
      "145/145 [==============================] - 0s 221us/sample - loss: 0.5295 - accuracy: 0.7793\n",
      "Epoch 3/50\n",
      "145/145 [==============================] - 0s 234us/sample - loss: 0.5127 - accuracy: 0.8138\n",
      "Epoch 4/50\n",
      "145/145 [==============================] - 0s 214us/sample - loss: 0.5098 - accuracy: 0.8000\n",
      "Epoch 5/50\n",
      "145/145 [==============================] - 0s 227us/sample - loss: 0.5014 - accuracy: 0.7724\n",
      "Epoch 6/50\n",
      "145/145 [==============================] - 0s 207us/sample - loss: 0.4919 - accuracy: 0.7931\n",
      "Epoch 7/50\n",
      "145/145 [==============================] - 0s 186us/sample - loss: 0.4887 - accuracy: 0.8138\n",
      "Epoch 8/50\n",
      "145/145 [==============================] - 0s 221us/sample - loss: 0.4837 - accuracy: 0.7724\n",
      "Epoch 9/50\n",
      "145/145 [==============================] - 0s 207us/sample - loss: 0.4735 - accuracy: 0.7793\n",
      "Epoch 10/50\n",
      "145/145 [==============================] - 0s 207us/sample - loss: 0.4681 - accuracy: 0.7793\n",
      "Epoch 11/50\n",
      "145/145 [==============================] - 0s 186us/sample - loss: 0.4593 - accuracy: 0.8207\n",
      "Epoch 12/50\n",
      "145/145 [==============================] - 0s 200us/sample - loss: 0.4561 - accuracy: 0.8207\n",
      "Epoch 13/50\n",
      "145/145 [==============================] - 0s 214us/sample - loss: 0.4613 - accuracy: 0.7931\n",
      "Epoch 14/50\n",
      "145/145 [==============================] - 0s 227us/sample - loss: 0.4413 - accuracy: 0.8345\n",
      "Epoch 15/50\n",
      "145/145 [==============================] - 0s 214us/sample - loss: 0.4384 - accuracy: 0.8207\n",
      "Epoch 16/50\n",
      "145/145 [==============================] - 0s 207us/sample - loss: 0.4373 - accuracy: 0.8207\n",
      "Epoch 17/50\n",
      "145/145 [==============================] - 0s 221us/sample - loss: 0.4242 - accuracy: 0.8345\n",
      "Epoch 18/50\n",
      "145/145 [==============================] - 0s 221us/sample - loss: 0.4264 - accuracy: 0.8207\n",
      "Epoch 19/50\n",
      "145/145 [==============================] - 0s 221us/sample - loss: 0.4205 - accuracy: 0.8345\n",
      "Epoch 20/50\n",
      "145/145 [==============================] - 0s 193us/sample - loss: 0.4259 - accuracy: 0.8414\n",
      "Epoch 21/50\n",
      "145/145 [==============================] - 0s 214us/sample - loss: 0.4121 - accuracy: 0.8621\n",
      "Epoch 22/50\n",
      "145/145 [==============================] - 0s 214us/sample - loss: 0.4096 - accuracy: 0.8207\n",
      "Epoch 23/50\n",
      "145/145 [==============================] - 0s 193us/sample - loss: 0.4074 - accuracy: 0.8276\n",
      "Epoch 24/50\n",
      "145/145 [==============================] - 0s 193us/sample - loss: 0.4029 - accuracy: 0.8276\n",
      "Epoch 25/50\n",
      "145/145 [==============================] - 0s 214us/sample - loss: 0.3927 - accuracy: 0.8483\n",
      "Epoch 26/50\n",
      "145/145 [==============================] - 0s 255us/sample - loss: 0.3931 - accuracy: 0.8483\n",
      "Epoch 27/50\n",
      "145/145 [==============================] - 0s 262us/sample - loss: 0.3903 - accuracy: 0.8414\n",
      "Epoch 28/50\n",
      "145/145 [==============================] - 0s 248us/sample - loss: 0.3848 - accuracy: 0.8345\n",
      "Epoch 29/50\n",
      "145/145 [==============================] - 0s 234us/sample - loss: 0.3902 - accuracy: 0.8207\n",
      "Epoch 30/50\n",
      "145/145 [==============================] - 0s 248us/sample - loss: 0.3760 - accuracy: 0.8552\n",
      "Epoch 31/50\n",
      "145/145 [==============================] - 0s 310us/sample - loss: 0.3726 - accuracy: 0.8276\n",
      "Epoch 32/50\n",
      "145/145 [==============================] - 0s 255us/sample - loss: 0.3806 - accuracy: 0.8276\n",
      "Epoch 33/50\n",
      "145/145 [==============================] - 0s 227us/sample - loss: 0.3700 - accuracy: 0.8345\n",
      "Epoch 34/50\n",
      "145/145 [==============================] - 0s 214us/sample - loss: 0.3604 - accuracy: 0.8759\n",
      "Epoch 35/50\n",
      "145/145 [==============================] - 0s 248us/sample - loss: 0.3603 - accuracy: 0.8552\n",
      "Epoch 36/50\n",
      "145/145 [==============================] - 0s 214us/sample - loss: 0.3516 - accuracy: 0.8552\n",
      "Epoch 37/50\n",
      "145/145 [==============================] - 0s 227us/sample - loss: 0.3520 - accuracy: 0.8414\n",
      "Epoch 38/50\n",
      "145/145 [==============================] - 0s 179us/sample - loss: 0.3459 - accuracy: 0.8552\n",
      "Epoch 39/50\n",
      "145/145 [==============================] - 0s 221us/sample - loss: 0.3462 - accuracy: 0.8552\n",
      "Epoch 40/50\n",
      "145/145 [==============================] - 0s 214us/sample - loss: 0.3368 - accuracy: 0.8690\n",
      "Epoch 41/50\n",
      "145/145 [==============================] - 0s 227us/sample - loss: 0.3431 - accuracy: 0.8414\n",
      "Epoch 42/50\n",
      "145/145 [==============================] - 0s 248us/sample - loss: 0.3431 - accuracy: 0.8621\n",
      "Epoch 43/50\n",
      "145/145 [==============================] - 0s 338us/sample - loss: 0.3210 - accuracy: 0.8759\n",
      "Epoch 44/50\n",
      "145/145 [==============================] - 0s 241us/sample - loss: 0.3288 - accuracy: 0.8897\n",
      "Epoch 45/50\n",
      "145/145 [==============================] - 0s 227us/sample - loss: 0.3299 - accuracy: 0.8552\n",
      "Epoch 46/50\n",
      "145/145 [==============================] - 0s 234us/sample - loss: 0.3271 - accuracy: 0.8621\n",
      "Epoch 47/50\n",
      "145/145 [==============================] - 0s 248us/sample - loss: 0.3277 - accuracy: 0.8552\n",
      "Epoch 48/50\n",
      "145/145 [==============================] - 0s 234us/sample - loss: 0.3263 - accuracy: 0.8345\n",
      "Epoch 49/50\n",
      "145/145 [==============================] - 0s 234us/sample - loss: 0.3131 - accuracy: 0.8483\n",
      "Epoch 50/50\n",
      "145/145 [==============================] - 0s 234us/sample - loss: 0.3104 - accuracy: 0.8828\n"
     ]
    }
   ],
   "source": [
    "history = model.fit(train_d,\n",
    "    y_train,\n",
    "    epochs=50,\n",
    "    batch_size=16)\n"
   ]
  },
  {
   "cell_type": "code",
   "execution_count": 60,
   "metadata": {},
   "outputs": [
    {
     "data": {
      "text/plain": [
       "dict_keys(['loss', 'accuracy'])"
      ]
     },
     "execution_count": 60,
     "metadata": {},
     "output_type": "execute_result"
    }
   ],
   "source": [
    "history_dict = history.history\n",
    "history_dict.keys()\n"
   ]
  },
  {
   "cell_type": "code",
   "execution_count": 61,
   "metadata": {},
   "outputs": [
    {
     "name": "stdout",
     "output_type": "stream",
     "text": [
      "Train on 145 samples, validate on 19 samples\n",
      "Epoch 1/50\n",
      "145/145 [==============================] - 0s 276us/sample - loss: 0.3085 - accuracy: 0.8759 - val_loss: 0.2552 - val_accuracy: 0.8421\n",
      "Epoch 2/50\n",
      "145/145 [==============================] - 0s 262us/sample - loss: 0.3049 - accuracy: 0.8828 - val_loss: 0.2551 - val_accuracy: 0.8421\n",
      "Epoch 3/50\n",
      "145/145 [==============================] - 0s 283us/sample - loss: 0.3109 - accuracy: 0.8621 - val_loss: 0.2735 - val_accuracy: 0.8421\n",
      "Epoch 4/50\n",
      "145/145 [==============================] - 0s 283us/sample - loss: 0.3007 - accuracy: 0.8759 - val_loss: 0.1914 - val_accuracy: 0.9474\n",
      "Epoch 5/50\n",
      "145/145 [==============================] - 0s 262us/sample - loss: 0.3150 - accuracy: 0.8759 - val_loss: 0.2440 - val_accuracy: 0.8421\n",
      "Epoch 6/50\n",
      "145/145 [==============================] - 0s 296us/sample - loss: 0.2977 - accuracy: 0.8759 - val_loss: 0.1826 - val_accuracy: 0.9474\n",
      "Epoch 7/50\n",
      "145/145 [==============================] - 0s 296us/sample - loss: 0.2994 - accuracy: 0.8621 - val_loss: 0.2709 - val_accuracy: 0.8421\n",
      "Epoch 8/50\n",
      "145/145 [==============================] - 0s 269us/sample - loss: 0.2975 - accuracy: 0.8690 - val_loss: 0.3961 - val_accuracy: 0.7895\n",
      "Epoch 9/50\n",
      "145/145 [==============================] - 0s 289us/sample - loss: 0.3020 - accuracy: 0.8828 - val_loss: 0.2505 - val_accuracy: 0.8421\n",
      "Epoch 10/50\n",
      "145/145 [==============================] - 0s 276us/sample - loss: 0.2867 - accuracy: 0.8828 - val_loss: 0.2345 - val_accuracy: 0.8421\n",
      "Epoch 11/50\n",
      "145/145 [==============================] - 0s 276us/sample - loss: 0.2876 - accuracy: 0.8690 - val_loss: 0.2450 - val_accuracy: 0.8421\n",
      "Epoch 12/50\n",
      "145/145 [==============================] - 0s 262us/sample - loss: 0.2863 - accuracy: 0.9034 - val_loss: 0.3364 - val_accuracy: 0.8421\n",
      "Epoch 13/50\n",
      "145/145 [==============================] - 0s 276us/sample - loss: 0.2962 - accuracy: 0.8759 - val_loss: 0.2277 - val_accuracy: 0.8947\n",
      "Epoch 14/50\n",
      "145/145 [==============================] - 0s 283us/sample - loss: 0.2870 - accuracy: 0.8621 - val_loss: 0.2141 - val_accuracy: 0.8947\n",
      "Epoch 15/50\n",
      "145/145 [==============================] - 0s 283us/sample - loss: 0.2760 - accuracy: 0.8897 - val_loss: 0.4156 - val_accuracy: 0.7895\n",
      "Epoch 16/50\n",
      "145/145 [==============================] - 0s 283us/sample - loss: 0.2858 - accuracy: 0.8897 - val_loss: 0.1790 - val_accuracy: 1.0000\n",
      "Epoch 17/50\n",
      "145/145 [==============================] - 0s 283us/sample - loss: 0.2665 - accuracy: 0.8759 - val_loss: 0.3053 - val_accuracy: 0.8421\n",
      "Epoch 18/50\n",
      "145/145 [==============================] - 0s 352us/sample - loss: 0.2838 - accuracy: 0.8690 - val_loss: 0.1605 - val_accuracy: 0.9474\n",
      "Epoch 19/50\n",
      "145/145 [==============================] - 0s 289us/sample - loss: 0.2806 - accuracy: 0.8759 - val_loss: 0.1596 - val_accuracy: 1.0000\n",
      "Epoch 20/50\n",
      "145/145 [==============================] - 0s 296us/sample - loss: 0.2769 - accuracy: 0.8759 - val_loss: 0.3969 - val_accuracy: 0.7895\n",
      "Epoch 21/50\n",
      "145/145 [==============================] - 0s 303us/sample - loss: 0.2801 - accuracy: 0.8897 - val_loss: 0.2092 - val_accuracy: 0.8947\n",
      "Epoch 22/50\n",
      "145/145 [==============================] - 0s 248us/sample - loss: 0.2647 - accuracy: 0.8897 - val_loss: 0.3423 - val_accuracy: 0.8421\n",
      "Epoch 23/50\n",
      "145/145 [==============================] - 0s 324us/sample - loss: 0.2675 - accuracy: 0.8897 - val_loss: 0.2724 - val_accuracy: 0.8421\n",
      "Epoch 24/50\n",
      "145/145 [==============================] - 0s 351us/sample - loss: 0.2572 - accuracy: 0.9172 - val_loss: 0.2572 - val_accuracy: 0.8421\n",
      "Epoch 25/50\n",
      "145/145 [==============================] - 0s 283us/sample - loss: 0.2685 - accuracy: 0.9034 - val_loss: 0.2481 - val_accuracy: 0.8421\n",
      "Epoch 26/50\n",
      "145/145 [==============================] - 0s 296us/sample - loss: 0.2574 - accuracy: 0.8897 - val_loss: 0.1549 - val_accuracy: 1.0000\n",
      "Epoch 27/50\n",
      "145/145 [==============================] - 0s 283us/sample - loss: 0.2625 - accuracy: 0.8621 - val_loss: 0.3501 - val_accuracy: 0.8421\n",
      "Epoch 28/50\n",
      "145/145 [==============================] - 0s 324us/sample - loss: 0.2594 - accuracy: 0.8897 - val_loss: 0.3228 - val_accuracy: 0.8421\n",
      "Epoch 29/50\n",
      "145/145 [==============================] - 0s 276us/sample - loss: 0.2567 - accuracy: 0.8966 - val_loss: 0.1725 - val_accuracy: 1.0000\n",
      "Epoch 30/50\n",
      "145/145 [==============================] - 0s 269us/sample - loss: 0.2545 - accuracy: 0.8828 - val_loss: 0.1947 - val_accuracy: 0.9474\n",
      "Epoch 31/50\n",
      "145/145 [==============================] - 0s 269us/sample - loss: 0.2455 - accuracy: 0.9241 - val_loss: 0.2324 - val_accuracy: 0.8421\n",
      "Epoch 32/50\n",
      "145/145 [==============================] - 0s 262us/sample - loss: 0.2455 - accuracy: 0.8966 - val_loss: 0.1596 - val_accuracy: 1.0000\n",
      "Epoch 33/50\n",
      "145/145 [==============================] - 0s 269us/sample - loss: 0.2499 - accuracy: 0.8897 - val_loss: 0.2648 - val_accuracy: 0.8421\n",
      "Epoch 34/50\n",
      "145/145 [==============================] - 0s 255us/sample - loss: 0.2440 - accuracy: 0.9172 - val_loss: 0.2907 - val_accuracy: 0.8421\n",
      "Epoch 35/50\n",
      "145/145 [==============================] - 0s 269us/sample - loss: 0.2400 - accuracy: 0.9034 - val_loss: 0.2095 - val_accuracy: 0.8421\n",
      "Epoch 36/50\n",
      "145/145 [==============================] - 0s 262us/sample - loss: 0.2370 - accuracy: 0.9172 - val_loss: 0.2713 - val_accuracy: 0.8421\n",
      "Epoch 37/50\n",
      "145/145 [==============================] - 0s 276us/sample - loss: 0.2405 - accuracy: 0.8966 - val_loss: 0.2158 - val_accuracy: 0.8421\n",
      "Epoch 38/50\n",
      "145/145 [==============================] - 0s 276us/sample - loss: 0.2395 - accuracy: 0.9103 - val_loss: 0.2429 - val_accuracy: 0.8421\n",
      "Epoch 39/50\n",
      "145/145 [==============================] - 0s 255us/sample - loss: 0.2335 - accuracy: 0.9172 - val_loss: 0.1689 - val_accuracy: 0.9474\n",
      "Epoch 40/50\n",
      "145/145 [==============================] - 0s 276us/sample - loss: 0.2305 - accuracy: 0.9103 - val_loss: 0.3510 - val_accuracy: 0.8421\n",
      "Epoch 41/50\n",
      "145/145 [==============================] - 0s 296us/sample - loss: 0.2337 - accuracy: 0.9034 - val_loss: 0.3224 - val_accuracy: 0.8421\n",
      "Epoch 42/50\n",
      "145/145 [==============================] - 0s 255us/sample - loss: 0.2426 - accuracy: 0.8966 - val_loss: 0.3492 - val_accuracy: 0.8421\n",
      "Epoch 43/50\n",
      "145/145 [==============================] - 0s 283us/sample - loss: 0.2408 - accuracy: 0.8966 - val_loss: 0.1888 - val_accuracy: 0.8947\n",
      "Epoch 44/50\n",
      "145/145 [==============================] - 0s 241us/sample - loss: 0.2221 - accuracy: 0.9241 - val_loss: 0.3254 - val_accuracy: 0.8421\n",
      "Epoch 45/50\n",
      "145/145 [==============================] - 0s 276us/sample - loss: 0.2332 - accuracy: 0.9034 - val_loss: 0.1815 - val_accuracy: 0.8947\n",
      "Epoch 46/50\n",
      "145/145 [==============================] - 0s 248us/sample - loss: 0.2323 - accuracy: 0.9034 - val_loss: 0.1263 - val_accuracy: 0.9474\n",
      "Epoch 47/50\n",
      "145/145 [==============================] - 0s 283us/sample - loss: 0.2381 - accuracy: 0.8690 - val_loss: 0.1762 - val_accuracy: 0.9474\n",
      "Epoch 48/50\n",
      "145/145 [==============================] - 0s 255us/sample - loss: 0.2239 - accuracy: 0.9103 - val_loss: 0.1818 - val_accuracy: 0.8947\n",
      "Epoch 49/50\n",
      "145/145 [==============================] - 0s 289us/sample - loss: 0.2166 - accuracy: 0.9103 - val_loss: 0.2399 - val_accuracy: 0.8421\n",
      "Epoch 50/50\n",
      "145/145 [==============================] - 0s 255us/sample - loss: 0.2215 - accuracy: 0.9172 - val_loss: 0.1730 - val_accuracy: 0.8947\n"
     ]
    }
   ],
   "source": [
    "history_validation = model.fit(train_d,\n",
    "    y_train,\n",
    "    epochs=50,\n",
    "    batch_size=16,\n",
    "    validation_data=(train_v, y_train_v))\n"
   ]
  },
  {
   "cell_type": "code",
   "execution_count": 62,
   "metadata": {},
   "outputs": [
    {
     "data": {
      "text/plain": [
       "dict_keys(['loss', 'accuracy'])"
      ]
     },
     "execution_count": 62,
     "metadata": {},
     "output_type": "execute_result"
    }
   ],
   "source": [
    "history_dict_v = history.history\n",
    "history_dict.keys()\n"
   ]
  },
  {
   "cell_type": "code",
   "execution_count": 63,
   "metadata": {},
   "outputs": [
    {
     "data": {
      "image/png": "[encoded data removed]",
      "text/plain": [
       "<Figure size 432x288 with 1 Axes>"
      ]
     },
     "metadata": {
      "needs_background": "light"
     },
     "output_type": "display_data"
    }
   ],
   "source": [
    "import matplotlib.pyplot as plt\n",
    "loss = history_dict['loss']\n",
    "accuracy = history_dict['accuracy']\n",
    "plt.plot(loss,accuracy, label='Training loss')\n",
    "plt.title('Training  loss')\n",
    "plt.xlabel('Loss')\n",
    "plt.ylabel('accuracy')\n",
    "plt.legend()\n",
    "\n",
    "plt.show()"
   ]
  },
  {
   "cell_type": "code",
   "execution_count": 65,
   "metadata": {},
   "outputs": [
    {
     "ename": "ValueError",
     "evalue": "x and y must have same first dimension, but have shapes (1,) and (50,)",
     "output_type": "error",
     "traceback": [
      "\u001b[1;31m---------------------------------------------------------------------------\u001b[0m",
      "\u001b[1;31mValueError\u001b[0m                                Traceback (most recent call last)",
      "\u001b[1;32m<ipython-input-65-59b45ca94244>\u001b[0m in \u001b[0;36m<module>\u001b[1;34m\u001b[0m\n\u001b[0;32m      2\u001b[0m \u001b[0mloss\u001b[0m \u001b[1;33m=\u001b[0m \u001b[0mhistory_dict\u001b[0m\u001b[1;33m[\u001b[0m\u001b[1;34m'loss'\u001b[0m\u001b[1;33m]\u001b[0m\u001b[1;33m\u001b[0m\u001b[1;33m\u001b[0m\u001b[0m\n\u001b[0;32m      3\u001b[0m \u001b[0maccuracy\u001b[0m \u001b[1;33m=\u001b[0m \u001b[0mhistory_dict\u001b[0m\u001b[1;33m[\u001b[0m\u001b[1;34m'accuracy'\u001b[0m\u001b[1;33m]\u001b[0m\u001b[1;33m\u001b[0m\u001b[1;33m\u001b[0m\u001b[0m\n\u001b[1;32m----> 4\u001b[1;33m \u001b[0mplt\u001b[0m\u001b[1;33m.\u001b[0m\u001b[0mplot\u001b[0m\u001b[1;33m(\u001b[0m\u001b[0me\u001b[0m\u001b[1;33m,\u001b[0m\u001b[0maccuracy\u001b[0m\u001b[1;33m,\u001b[0m \u001b[0mlabel\u001b[0m\u001b[1;33m=\u001b[0m\u001b[1;34m'Training loss'\u001b[0m\u001b[1;33m)\u001b[0m\u001b[1;33m\u001b[0m\u001b[1;33m\u001b[0m\u001b[0m\n\u001b[0m\u001b[0;32m      5\u001b[0m \u001b[0mplt\u001b[0m\u001b[1;33m.\u001b[0m\u001b[0mtitle\u001b[0m\u001b[1;33m(\u001b[0m\u001b[1;34m'Epoch and Accuracy'\u001b[0m\u001b[1;33m)\u001b[0m\u001b[1;33m\u001b[0m\u001b[1;33m\u001b[0m\u001b[0m\n\u001b[0;32m      6\u001b[0m \u001b[0mplt\u001b[0m\u001b[1;33m.\u001b[0m\u001b[0mxlabel\u001b[0m\u001b[1;33m(\u001b[0m\u001b[1;34m'epochs'\u001b[0m\u001b[1;33m)\u001b[0m\u001b[1;33m\u001b[0m\u001b[1;33m\u001b[0m\u001b[0m\n",
      "\u001b[1;32m~\\Anaconda3\\lib\\site-packages\\matplotlib\\pyplot.py\u001b[0m in \u001b[0;36mplot\u001b[1;34m(scalex, scaley, data, *args, **kwargs)\u001b[0m\n\u001b[0;32m   2793\u001b[0m     return gca().plot(\n\u001b[0;32m   2794\u001b[0m         *args, scalex=scalex, scaley=scaley, **({\"data\": data} if data\n\u001b[1;32m-> 2795\u001b[1;33m         is not None else {}), **kwargs)\n\u001b[0m\u001b[0;32m   2796\u001b[0m \u001b[1;33m\u001b[0m\u001b[0m\n\u001b[0;32m   2797\u001b[0m \u001b[1;33m\u001b[0m\u001b[0m\n",
      "\u001b[1;32m~\\Anaconda3\\lib\\site-packages\\matplotlib\\axes\\_axes.py\u001b[0m in \u001b[0;36mplot\u001b[1;34m(self, scalex, scaley, data, *args, **kwargs)\u001b[0m\n\u001b[0;32m   1664\u001b[0m         \"\"\"\n\u001b[0;32m   1665\u001b[0m         \u001b[0mkwargs\u001b[0m \u001b[1;33m=\u001b[0m \u001b[0mcbook\u001b[0m\u001b[1;33m.\u001b[0m\u001b[0mnormalize_kwargs\u001b[0m\u001b[1;33m(\u001b[0m\u001b[0mkwargs\u001b[0m\u001b[1;33m,\u001b[0m \u001b[0mmlines\u001b[0m\u001b[1;33m.\u001b[0m\u001b[0mLine2D\u001b[0m\u001b[1;33m.\u001b[0m\u001b[0m_alias_map\u001b[0m\u001b[1;33m)\u001b[0m\u001b[1;33m\u001b[0m\u001b[1;33m\u001b[0m\u001b[0m\n\u001b[1;32m-> 1666\u001b[1;33m         \u001b[0mlines\u001b[0m \u001b[1;33m=\u001b[0m \u001b[1;33m[\u001b[0m\u001b[1;33m*\u001b[0m\u001b[0mself\u001b[0m\u001b[1;33m.\u001b[0m\u001b[0m_get_lines\u001b[0m\u001b[1;33m(\u001b[0m\u001b[1;33m*\u001b[0m\u001b[0margs\u001b[0m\u001b[1;33m,\u001b[0m \u001b[0mdata\u001b[0m\u001b[1;33m=\u001b[0m\u001b[0mdata\u001b[0m\u001b[1;33m,\u001b[0m \u001b[1;33m**\u001b[0m\u001b[0mkwargs\u001b[0m\u001b[1;33m)\u001b[0m\u001b[1;33m]\u001b[0m\u001b[1;33m\u001b[0m\u001b[1;33m\u001b[0m\u001b[0m\n\u001b[0m\u001b[0;32m   1667\u001b[0m         \u001b[1;32mfor\u001b[0m \u001b[0mline\u001b[0m \u001b[1;32min\u001b[0m \u001b[0mlines\u001b[0m\u001b[1;33m:\u001b[0m\u001b[1;33m\u001b[0m\u001b[1;33m\u001b[0m\u001b[0m\n\u001b[0;32m   1668\u001b[0m             \u001b[0mself\u001b[0m\u001b[1;33m.\u001b[0m\u001b[0madd_line\u001b[0m\u001b[1;33m(\u001b[0m\u001b[0mline\u001b[0m\u001b[1;33m)\u001b[0m\u001b[1;33m\u001b[0m\u001b[1;33m\u001b[0m\u001b[0m\n",
      "\u001b[1;32m~\\Anaconda3\\lib\\site-packages\\matplotlib\\axes\\_base.py\u001b[0m in \u001b[0;36m__call__\u001b[1;34m(self, *args, **kwargs)\u001b[0m\n\u001b[0;32m    223\u001b[0m                 \u001b[0mthis\u001b[0m \u001b[1;33m+=\u001b[0m \u001b[0margs\u001b[0m\u001b[1;33m[\u001b[0m\u001b[1;36m0\u001b[0m\u001b[1;33m]\u001b[0m\u001b[1;33m,\u001b[0m\u001b[1;33m\u001b[0m\u001b[1;33m\u001b[0m\u001b[0m\n\u001b[0;32m    224\u001b[0m                 \u001b[0margs\u001b[0m \u001b[1;33m=\u001b[0m \u001b[0margs\u001b[0m\u001b[1;33m[\u001b[0m\u001b[1;36m1\u001b[0m\u001b[1;33m:\u001b[0m\u001b[1;33m]\u001b[0m\u001b[1;33m\u001b[0m\u001b[1;33m\u001b[0m\u001b[0m\n\u001b[1;32m--> 225\u001b[1;33m             \u001b[1;32myield\u001b[0m \u001b[1;32mfrom\u001b[0m \u001b[0mself\u001b[0m\u001b[1;33m.\u001b[0m\u001b[0m_plot_args\u001b[0m\u001b[1;33m(\u001b[0m\u001b[0mthis\u001b[0m\u001b[1;33m,\u001b[0m \u001b[0mkwargs\u001b[0m\u001b[1;33m)\u001b[0m\u001b[1;33m\u001b[0m\u001b[1;33m\u001b[0m\u001b[0m\n\u001b[0m\u001b[0;32m    226\u001b[0m \u001b[1;33m\u001b[0m\u001b[0m\n\u001b[0;32m    227\u001b[0m     \u001b[1;32mdef\u001b[0m \u001b[0mget_next_color\u001b[0m\u001b[1;33m(\u001b[0m\u001b[0mself\u001b[0m\u001b[1;33m)\u001b[0m\u001b[1;33m:\u001b[0m\u001b[1;33m\u001b[0m\u001b[1;33m\u001b[0m\u001b[0m\n",
      "\u001b[1;32m~\\Anaconda3\\lib\\site-packages\\matplotlib\\axes\\_base.py\u001b[0m in \u001b[0;36m_plot_args\u001b[1;34m(self, tup, kwargs)\u001b[0m\n\u001b[0;32m    389\u001b[0m             \u001b[0mx\u001b[0m\u001b[1;33m,\u001b[0m \u001b[0my\u001b[0m \u001b[1;33m=\u001b[0m \u001b[0mindex_of\u001b[0m\u001b[1;33m(\u001b[0m\u001b[0mtup\u001b[0m\u001b[1;33m[\u001b[0m\u001b[1;33m-\u001b[0m\u001b[1;36m1\u001b[0m\u001b[1;33m]\u001b[0m\u001b[1;33m)\u001b[0m\u001b[1;33m\u001b[0m\u001b[1;33m\u001b[0m\u001b[0m\n\u001b[0;32m    390\u001b[0m \u001b[1;33m\u001b[0m\u001b[0m\n\u001b[1;32m--> 391\u001b[1;33m         \u001b[0mx\u001b[0m\u001b[1;33m,\u001b[0m \u001b[0my\u001b[0m \u001b[1;33m=\u001b[0m \u001b[0mself\u001b[0m\u001b[1;33m.\u001b[0m\u001b[0m_xy_from_xy\u001b[0m\u001b[1;33m(\u001b[0m\u001b[0mx\u001b[0m\u001b[1;33m,\u001b[0m \u001b[0my\u001b[0m\u001b[1;33m)\u001b[0m\u001b[1;33m\u001b[0m\u001b[1;33m\u001b[0m\u001b[0m\n\u001b[0m\u001b[0;32m    392\u001b[0m \u001b[1;33m\u001b[0m\u001b[0m\n\u001b[0;32m    393\u001b[0m         \u001b[1;32mif\u001b[0m \u001b[0mself\u001b[0m\u001b[1;33m.\u001b[0m\u001b[0mcommand\u001b[0m \u001b[1;33m==\u001b[0m \u001b[1;34m'plot'\u001b[0m\u001b[1;33m:\u001b[0m\u001b[1;33m\u001b[0m\u001b[1;33m\u001b[0m\u001b[0m\n",
      "\u001b[1;32m~\\Anaconda3\\lib\\site-packages\\matplotlib\\axes\\_base.py\u001b[0m in \u001b[0;36m_xy_from_xy\u001b[1;34m(self, x, y)\u001b[0m\n\u001b[0;32m    268\u001b[0m         \u001b[1;32mif\u001b[0m \u001b[0mx\u001b[0m\u001b[1;33m.\u001b[0m\u001b[0mshape\u001b[0m\u001b[1;33m[\u001b[0m\u001b[1;36m0\u001b[0m\u001b[1;33m]\u001b[0m \u001b[1;33m!=\u001b[0m \u001b[0my\u001b[0m\u001b[1;33m.\u001b[0m\u001b[0mshape\u001b[0m\u001b[1;33m[\u001b[0m\u001b[1;36m0\u001b[0m\u001b[1;33m]\u001b[0m\u001b[1;33m:\u001b[0m\u001b[1;33m\u001b[0m\u001b[1;33m\u001b[0m\u001b[0m\n\u001b[0;32m    269\u001b[0m             raise ValueError(\"x and y must have same first dimension, but \"\n\u001b[1;32m--> 270\u001b[1;33m                              \"have shapes {} and {}\".format(x.shape, y.shape))\n\u001b[0m\u001b[0;32m    271\u001b[0m         \u001b[1;32mif\u001b[0m \u001b[0mx\u001b[0m\u001b[1;33m.\u001b[0m\u001b[0mndim\u001b[0m \u001b[1;33m>\u001b[0m \u001b[1;36m2\u001b[0m \u001b[1;32mor\u001b[0m \u001b[0my\u001b[0m\u001b[1;33m.\u001b[0m\u001b[0mndim\u001b[0m \u001b[1;33m>\u001b[0m \u001b[1;36m2\u001b[0m\u001b[1;33m:\u001b[0m\u001b[1;33m\u001b[0m\u001b[1;33m\u001b[0m\u001b[0m\n\u001b[0;32m    272\u001b[0m             raise ValueError(\"x and y can be no greater than 2-D, but have \"\n",
      "\u001b[1;31mValueError\u001b[0m: x and y must have same first dimension, but have shapes (1,) and (50,)"
     ]
    },
    {
     "data": {
      "image/png": "[encoded data removed]",
      "text/plain": [
       "<Figure size 432x288 with 1 Axes>"
      ]
     },
     "metadata": {
      "needs_background": "light"
     },
     "output_type": "display_data"
    }
   ],
   "source": [
    "e=50\n",
    "loss = history_dict['loss']\n",
    "accuracy = history_dict['accuracy']\n",
    "plt.plot(e,accuracy, label='Training loss')\n",
    "plt.title('Epoch and Accuracy')\n",
    "plt.xlabel('epochs')\n",
    "plt.ylabel('Accuracy')\n",
    "plt.legend()\n",
    "\n",
    "plt.show()"
   ]
  },
  {
   "cell_type": "code",
   "execution_count": null,
   "metadata": {},
   "outputs": [],
   "source": []
  }
 ],
 "metadata": {
  "kernelspec": {
   "display_name": "Python 3",
   "language": "python",
   "name": "python3"
  },
  "language_info": {
   "codemirror_mode": {
    "name": "ipython",
    "version": 3
   },
   "file_extension": ".py",
   "mimetype": "text/x-python",
   "name": "python",
   "nbconvert_exporter": "python",
   "pygments_lexer": "ipython3",
   "version": "3.7.4"
  }
 },
 "nbformat": 4,
 "nbformat_minor": 2
}
